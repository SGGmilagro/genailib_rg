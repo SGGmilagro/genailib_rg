{
 "cells": [
  {
   "cell_type": "markdown",
   "id": "b451950a-797d-4133-89a3-5be2ac3b8aba",
   "metadata": {},
   "source": [
    "---\n",
    "title: Wikipedia Module\n",
    "---"
   ]
  },
  {
   "cell_type": "code",
   "execution_count": 7,
   "id": "a23f1bdf-59b5-4c86-81ed-d5848f04b1d4",
   "metadata": {},
   "outputs": [],
   "source": [
    "from wikiapp.wikipedia import random_page, Page"
   ]
  },
  {
   "cell_type": "code",
   "execution_count": 2,
   "id": "e3e7bd48-5b02-464e-91eb-08e436c74c1a",
   "metadata": {},
   "outputs": [],
   "source": [
    "from nbdev import show_doc"
   ]
  },
  {
   "cell_type": "code",
   "execution_count": 8,
   "id": "16c026dd-fe39-4423-af54-a43891f5db95",
   "metadata": {},
   "outputs": [
    {
     "data": {
      "text/markdown": [
       "---\n",
       "\n",
       "### Page\n",
       "\n",
       ">      Page (title:str, extract:str)\n",
       "\n",
       "*A Page Dataclass to represent the return value from wikipedia*"
      ],
      "text/plain": [
       "---\n",
       "\n",
       "### Page\n",
       "\n",
       ">      Page (title:str, extract:str)\n",
       "\n",
       "*A Page Dataclass to represent the return value from wikipedia*"
      ]
     },
     "execution_count": 8,
     "metadata": {},
     "output_type": "execute_result"
    }
   ],
   "source": [
    "show_doc(Page)"
   ]
  },
  {
   "cell_type": "code",
   "execution_count": 3,
   "id": "23bf07a1-e5d9-4022-a1ef-0605eb56e905",
   "metadata": {},
   "outputs": [
    {
     "data": {
      "text/markdown": [
       "---\n",
       "\n",
       "### random_page\n",
       "\n",
       ">      random_page (language:str='en')\n",
       "\n",
       "*Get a random page from Wikipedia*\n",
       "\n",
       "|    | **Type** | **Default** | **Details** |\n",
       "| -- | -------- | ----------- | ----------- |\n",
       "| language | str | en | The language you want to use, as a two character string |\n",
       "| **Returns** | **Page** |  | **Return a Page object** |"
      ],
      "text/plain": [
       "---\n",
       "\n",
       "### random_page\n",
       "\n",
       ">      random_page (language:str='en')\n",
       "\n",
       "*Get a random page from Wikipedia*\n",
       "\n",
       "|    | **Type** | **Default** | **Details** |\n",
       "| -- | -------- | ----------- | ----------- |\n",
       "| language | str | en | The language you want to use, as a two character string |\n",
       "| **Returns** | **Page** |  | **Return a Page object** |"
      ]
     },
     "execution_count": 3,
     "metadata": {},
     "output_type": "execute_result"
    }
   ],
   "source": [
    "show_doc(random_page)"
   ]
  },
  {
   "cell_type": "markdown",
   "id": "355164cf-6843-4f9c-9bc9-f318531f7d13",
   "metadata": {},
   "source": [
    "\n",
    "## Examples\n"
   ]
  },
  {
   "cell_type": "code",
   "execution_count": 10,
   "id": "92666d4a-f8ae-4302-999c-739b303978a7",
   "metadata": {},
   "outputs": [
    {
     "name": "stdout",
     "output_type": "stream",
     "text": [
      "TITLE Tiruppavai\n",
      "EXTRACT The Tiruppavai is a set of Tamil Hindu hymns attributed to the female poet-saint Andal.\n"
     ]
    }
   ],
   "source": [
    "page = random_page()\n",
    "print(\"TITLE\", page.title)\n",
    "print(\"EXTRACT\", page.extract)"
   ]
  },
  {
   "cell_type": "markdown",
   "id": "2a863f95-e572-415f-bcf8-c34cef958fc2",
   "metadata": {},
   "source": [
    "If you do this agian, you will get another random page:"
   ]
  },
  {
   "cell_type": "code",
   "execution_count": 11,
   "id": "a1596f2d-a1c9-4ab5-bca6-14963d67ba7d",
   "metadata": {},
   "outputs": [
    {
     "name": "stdout",
     "output_type": "stream",
     "text": [
      "TITLE Myntra\n",
      "EXTRACT Myntra is an Indian fashion e-commerce company headquartered in Bengaluru, Karnataka, India. The company was founded in 2007-2008 to sell personalized gift items. In May 2014, Myntra.com was acquired by Flipkart.\n"
     ]
    }
   ],
   "source": [
    "page = random_page()\n",
    "print(\"TITLE\", page.title)\n",
    "print(\"EXTRACT\", page.extract)"
   ]
  },
  {
   "cell_type": "markdown",
   "id": "5968ccf2-82a2-435d-9d8f-b6ac65e76ee6",
   "metadata": {},
   "source": [
    "You can change the language\n"
   ]
  },
  {
   "cell_type": "code",
   "execution_count": 12,
   "id": "9a9247af-d505-421c-97b8-9f35178e4050",
   "metadata": {},
   "outputs": [
    {
     "name": "stdout",
     "output_type": "stream",
     "text": [
      "TITLE La Soumission du prince Dipo Negoro au général De Kock\n",
      "EXTRACT La Soumission du prince Dipo Negoro au général De Kock est un tableau peint par Nicolaas Pieneman vers 1830-1835.\n"
     ]
    }
   ],
   "source": [
    "page = random_page(language=\"fr\")\n",
    "print(\"TITLE\", page.title)\n",
    "print(\"EXTRACT\", page.extract)"
   ]
  },
  {
   "cell_type": "code",
   "execution_count": null,
   "id": "c99edb36-c878-4fdc-98df-57622e950218",
   "metadata": {},
   "outputs": [],
   "source": []
  }
 ],
 "metadata": {
  "kernelspec": {
   "display_name": "Python 3 (ipykernel)",
   "language": "python",
   "name": "python3"
  },
  "language_info": {
   "codemirror_mode": {
    "name": "ipython",
    "version": 3
   },
   "file_extension": ".py",
   "mimetype": "text/x-python",
   "name": "python",
   "nbconvert_exporter": "python",
   "pygments_lexer": "ipython3",
   "version": "3.12.3"
  }
 },
 "nbformat": 4,
 "nbformat_minor": 5
}
